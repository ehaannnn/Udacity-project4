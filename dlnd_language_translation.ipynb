{
 "cells": [
  {
   "cell_type": "markdown",
   "metadata": {
    "collapsed": true
   },
   "source": [
    "# Language Translation\n",
    "In this project, you’re going to take a peek into the realm of neural network machine translation.  You’ll be training a sequence to sequence model on a dataset of English and French sentences that can translate new sentences from English to French.\n",
    "## Get the Data\n",
    "Since translating the whole language of English to French will take lots of time to train, we have provided you with a small portion of the English corpus."
   ]
  },
  {
   "cell_type": "code",
   "execution_count": 40,
   "metadata": {
    "collapsed": true
   },
   "outputs": [],
   "source": [
    "\"\"\"\n",
    "DON'T MODIFY ANYTHING IN THIS CELL\n",
    "\"\"\"\n",
    "import helper\n",
    "import problem_unittests as tests\n",
    "\n",
    "source_path = 'data/small_vocab_en'\n",
    "target_path = 'data/small_vocab_fr'\n",
    "source_text = helper.load_data(source_path)\n",
    "target_text = helper.load_data(target_path)"
   ]
  },
  {
   "cell_type": "markdown",
   "metadata": {},
   "source": [
    "## Explore the Data\n",
    "Play around with view_sentence_range to view different parts of the data."
   ]
  },
  {
   "cell_type": "code",
   "execution_count": 41,
   "metadata": {
    "scrolled": true
   },
   "outputs": [
    {
     "name": "stdout",
     "output_type": "stream",
     "text": [
      "Dataset Stats\n",
      "Roughly the number of unique words: 227\n",
      "Number of sentences: 137861\n",
      "Average number of words in a sentence: 13.225277634719028\n",
      "\n",
      "English sentences 0 to 10:\n",
      "new jersey is sometimes quiet during autumn , and it is snowy in april .\n",
      "the united states is usually chilly during july , and it is usually freezing in november .\n",
      "california is usually quiet during march , and it is usually hot in june .\n",
      "the united states is sometimes mild during june , and it is cold in september .\n",
      "your least liked fruit is the grape , but my least liked is the apple .\n",
      "his favorite fruit is the orange , but my favorite is the grape .\n",
      "paris is relaxing during december , but it is usually chilly in july .\n",
      "new jersey is busy during spring , and it is never hot in march .\n",
      "our least liked fruit is the lemon , but my least liked is the grape .\n",
      "the united states is sometimes busy during january , and it is sometimes warm in november .\n",
      "\n",
      "French sentences 0 to 10:\n",
      "new jersey est parfois calme pendant l' automne , et il est neigeux en avril .\n",
      "les états-unis est généralement froid en juillet , et il gèle habituellement en novembre .\n",
      "california est généralement calme en mars , et il est généralement chaud en juin .\n",
      "les états-unis est parfois légère en juin , et il fait froid en septembre .\n",
      "votre moins aimé fruit est le raisin , mais mon moins aimé est la pomme .\n",
      "son fruit préféré est l'orange , mais mon préféré est le raisin .\n",
      "paris est relaxant en décembre , mais il est généralement froid en juillet .\n",
      "new jersey est occupé au printemps , et il est jamais chaude en mars .\n",
      "notre fruit est moins aimé le citron , mais mon moins aimé est le raisin .\n",
      "les états-unis est parfois occupé en janvier , et il est parfois chaud en novembre .\n"
     ]
    }
   ],
   "source": [
    "view_sentence_range = (0, 10)\n",
    "\n",
    "\"\"\"\n",
    "DON'T MODIFY ANYTHING IN THIS CELL\n",
    "\"\"\"\n",
    "import numpy as np\n",
    "\n",
    "print('Dataset Stats')\n",
    "print('Roughly the number of unique words: {}'.format(len({word: None for word in source_text.split()})))\n",
    "\n",
    "sentences = source_text.split('\\n')\n",
    "word_counts = [len(sentence.split()) for sentence in sentences]\n",
    "print('Number of sentences: {}'.format(len(sentences)))\n",
    "print('Average number of words in a sentence: {}'.format(np.average(word_counts)))\n",
    "\n",
    "print()\n",
    "print('English sentences {} to {}:'.format(*view_sentence_range))\n",
    "print('\\n'.join(source_text.split('\\n')[view_sentence_range[0]:view_sentence_range[1]]))\n",
    "print()\n",
    "print('French sentences {} to {}:'.format(*view_sentence_range))\n",
    "print('\\n'.join(target_text.split('\\n')[view_sentence_range[0]:view_sentence_range[1]]))"
   ]
  },
  {
   "cell_type": "markdown",
   "metadata": {},
   "source": [
    "## Implement Preprocessing Function\n",
    "### Text to Word Ids\n",
    "As you did with other RNNs, you must turn the text into a number so the computer can understand it. In the function `text_to_ids()`, you'll turn `source_text` and `target_text` from words to ids.  However, you need to add the `<EOS>` word id at the end of `target_text`.  This will help the neural network predict when the sentence should end.\n",
    "\n",
    "You can get the `<EOS>` word id by doing:\n",
    "```python\n",
    "target_vocab_to_int['<EOS>']\n",
    "```\n",
    "You can get other word ids using `source_vocab_to_int` and `target_vocab_to_int`."
   ]
  },
  {
   "cell_type": "code",
   "execution_count": 42,
   "metadata": {},
   "outputs": [
    {
     "name": "stdout",
     "output_type": "stream",
     "text": [
      "Tests Passed\n"
     ]
    }
   ],
   "source": [
    "def text_to_ids(source_text, target_text, source_vocab_to_int, target_vocab_to_int):\n",
    "    \"\"\"\n",
    "    Convert source and target text to proper word ids\n",
    "    :param source_text: String that contains all the source text.\n",
    "    :param target_text: String that contains all the target text.\n",
    "    :param source_vocab_to_int: Dictionary to go from the source words to an id\n",
    "    :param target_vocab_to_int: Dictionary to go from the target words to an id\n",
    "    :return: A tuple of lists (source_id_text, target_id_text)\n",
    "    \"\"\"\n",
    "    source_id_text = []\n",
    "    target_id_text = []\n",
    "    # TODO: Implement Function\n",
    "    for sentence in source_text.split('\\n'):\n",
    "        tmp = []\n",
    "        for word in sentence.split():\n",
    "            tmp.append(source_vocab_to_int[word])\n",
    "        source_id_text.append(tmp)\n",
    "    for sentence in target_text.split('\\n'):\n",
    "        tmp = []\n",
    "        for word in sentence.split():        \n",
    "            tmp.append(target_vocab_to_int[word])\n",
    "        tmp.append(target_vocab_to_int['<EOS>'])\n",
    "        target_id_text.append(tmp)\n",
    "    \n",
    "    return source_id_text, target_id_text\n",
    "\n",
    "\"\"\"\n",
    "DON'T MODIFY ANYTHING IN THIS CELL THAT IS BELOW THIS LINE\n",
    "\"\"\"\n",
    "tests.test_text_to_ids(text_to_ids)"
   ]
  },
  {
   "cell_type": "markdown",
   "metadata": {},
   "source": [
    "### Preprocess all the data and save it\n",
    "Running the code cell below will preprocess all the data and save it to file."
   ]
  },
  {
   "cell_type": "code",
   "execution_count": 43,
   "metadata": {
    "collapsed": true
   },
   "outputs": [],
   "source": [
    "\"\"\"\n",
    "DON'T MODIFY ANYTHING IN THIS CELL\n",
    "\"\"\"\n",
    "helper.preprocess_and_save_data(source_path, target_path, text_to_ids)"
   ]
  },
  {
   "cell_type": "markdown",
   "metadata": {},
   "source": [
    "# Check Point\n",
    "This is your first checkpoint. If you ever decide to come back to this notebook or have to restart the notebook, you can start from here. The preprocessed data has been saved to disk."
   ]
  },
  {
   "cell_type": "code",
   "execution_count": 44,
   "metadata": {
    "collapsed": true
   },
   "outputs": [],
   "source": [
    "\"\"\"\n",
    "DON'T MODIFY ANYTHING IN THIS CELL\n",
    "\"\"\"\n",
    "import numpy as np\n",
    "import helper\n",
    "import problem_unittests as tests\n",
    "\n",
    "(source_int_text, target_int_text), (source_vocab_to_int, target_vocab_to_int), _ = helper.load_preprocess()"
   ]
  },
  {
   "cell_type": "markdown",
   "metadata": {},
   "source": [
    "### Check the Version of TensorFlow and Access to GPU\n",
    "This will check to make sure you have the correct version of TensorFlow and access to a GPU"
   ]
  },
  {
   "cell_type": "code",
   "execution_count": 45,
   "metadata": {},
   "outputs": [
    {
     "name": "stdout",
     "output_type": "stream",
     "text": [
      "TensorFlow Version: 1.2.1\n"
     ]
    },
    {
     "name": "stderr",
     "output_type": "stream",
     "text": [
      "C:\\Users\\poia0\\Anaconda3\\lib\\site-packages\\ipykernel_launcher.py:15: UserWarning: No GPU found. Please use a GPU to train your neural network.\n",
      "  from ipykernel import kernelapp as app\n"
     ]
    }
   ],
   "source": [
    "\"\"\"\n",
    "DON'T MODIFY ANYTHING IN THIS CELL\n",
    "\"\"\"\n",
    "from distutils.version import LooseVersion\n",
    "import warnings\n",
    "import tensorflow as tf\n",
    "from tensorflow.python.layers.core import Dense\n",
    "\n",
    "# Check TensorFlow Version\n",
    "assert LooseVersion(tf.__version__) >= LooseVersion('1.1'), 'Please use TensorFlow version 1.1 or newer'\n",
    "print('TensorFlow Version: {}'.format(tf.__version__))\n",
    "\n",
    "# Check for a GPU\n",
    "if not tf.test.gpu_device_name():\n",
    "    warnings.warn('No GPU found. Please use a GPU to train your neural network.')\n",
    "else:\n",
    "    print('Default GPU Device: {}'.format(tf.test.gpu_device_name()))"
   ]
  },
  {
   "cell_type": "markdown",
   "metadata": {},
   "source": [
    "## Build the Neural Network\n",
    "You'll build the components necessary to build a Sequence-to-Sequence model by implementing the following functions below:\n",
    "- `model_inputs`\n",
    "- `process_decoder_input`\n",
    "- `encoding_layer`\n",
    "- `decoding_layer_train`\n",
    "- `decoding_layer_infer`\n",
    "- `decoding_layer`\n",
    "- `seq2seq_model`\n",
    "\n",
    "### Input\n",
    "Implement the `model_inputs()` function to create TF Placeholders for the Neural Network. It should create the following placeholders:\n",
    "\n",
    "- Input text placeholder named \"input\" using the TF Placeholder name parameter with rank 2.\n",
    "- Targets placeholder with rank 2.\n",
    "- Learning rate placeholder with rank 0.\n",
    "- Keep probability placeholder named \"keep_prob\" using the TF Placeholder name parameter with rank 0.\n",
    "- Target sequence length placeholder named \"target_sequence_length\" with rank 1\n",
    "- Max target sequence length tensor named \"max_target_len\" getting its value from applying tf.reduce_max on the target_sequence_length placeholder. Rank 0.\n",
    "- Source sequence length placeholder named \"source_sequence_length\" with rank 1\n",
    "\n",
    "Return the placeholders in the following the tuple (input, targets, learning rate, keep probability, target sequence length, max target sequence length, source sequence length)"
   ]
  },
  {
   "cell_type": "code",
   "execution_count": 46,
   "metadata": {
    "scrolled": true
   },
   "outputs": [
    {
     "name": "stdout",
     "output_type": "stream",
     "text": [
      "ERROR:tensorflow:==================================\n",
      "Object was never used (type <class 'tensorflow.python.framework.ops.Operation'>):\n",
      "<tf.Operation 'assert_rank_2/Assert/Assert' type=Assert>\n",
      "If you want to mark it as used call its \"mark_used()\" method.\n",
      "It was originally created here:\n",
      "['File \"C:\\\\Users\\\\poia0\\\\Anaconda3\\\\lib\\\\runpy.py\", line 193, in _run_module_as_main\\n    \"__main__\", mod_spec)', 'File \"C:\\\\Users\\\\poia0\\\\Anaconda3\\\\lib\\\\runpy.py\", line 85, in _run_code\\n    exec(code, run_globals)', 'File \"C:\\\\Users\\\\poia0\\\\Anaconda3\\\\lib\\\\site-packages\\\\ipykernel_launcher.py\", line 16, in <module>\\n    app.launch_new_instance()', 'File \"C:\\\\Users\\\\poia0\\\\Anaconda3\\\\lib\\\\site-packages\\\\traitlets\\\\config\\\\application.py\", line 658, in launch_instance\\n    app.start()', 'File \"C:\\\\Users\\\\poia0\\\\Anaconda3\\\\lib\\\\site-packages\\\\ipykernel\\\\kernelapp.py\", line 477, in start\\n    ioloop.IOLoop.instance().start()', 'File \"C:\\\\Users\\\\poia0\\\\Anaconda3\\\\lib\\\\site-packages\\\\zmq\\\\eventloop\\\\ioloop.py\", line 177, in start\\n    super(ZMQIOLoop, self).start()', 'File \"C:\\\\Users\\\\poia0\\\\Anaconda3\\\\lib\\\\site-packages\\\\tornado\\\\ioloop.py\", line 888, in start\\n    handler_func(fd_obj, events)', 'File \"C:\\\\Users\\\\poia0\\\\Anaconda3\\\\lib\\\\site-packages\\\\tornado\\\\stack_context.py\", line 277, in null_wrapper\\n    return fn(*args, **kwargs)', 'File \"C:\\\\Users\\\\poia0\\\\Anaconda3\\\\lib\\\\site-packages\\\\zmq\\\\eventloop\\\\zmqstream.py\", line 440, in _handle_events\\n    self._handle_recv()', 'File \"C:\\\\Users\\\\poia0\\\\Anaconda3\\\\lib\\\\site-packages\\\\zmq\\\\eventloop\\\\zmqstream.py\", line 472, in _handle_recv\\n    self._run_callback(callback, msg)', 'File \"C:\\\\Users\\\\poia0\\\\Anaconda3\\\\lib\\\\site-packages\\\\zmq\\\\eventloop\\\\zmqstream.py\", line 414, in _run_callback\\n    callback(*args, **kwargs)', 'File \"C:\\\\Users\\\\poia0\\\\Anaconda3\\\\lib\\\\site-packages\\\\tornado\\\\stack_context.py\", line 277, in null_wrapper\\n    return fn(*args, **kwargs)', 'File \"C:\\\\Users\\\\poia0\\\\Anaconda3\\\\lib\\\\site-packages\\\\ipykernel\\\\kernelbase.py\", line 283, in dispatcher\\n    return self.dispatch_shell(stream, msg)', 'File \"C:\\\\Users\\\\poia0\\\\Anaconda3\\\\lib\\\\site-packages\\\\ipykernel\\\\kernelbase.py\", line 235, in dispatch_shell\\n    handler(stream, idents, msg)', 'File \"C:\\\\Users\\\\poia0\\\\Anaconda3\\\\lib\\\\site-packages\\\\ipykernel\\\\kernelbase.py\", line 399, in execute_request\\n    user_expressions, allow_stdin)', 'File \"C:\\\\Users\\\\poia0\\\\Anaconda3\\\\lib\\\\site-packages\\\\ipykernel\\\\ipkernel.py\", line 196, in do_execute\\n    res = shell.run_cell(code, store_history=store_history, silent=silent)', 'File \"C:\\\\Users\\\\poia0\\\\Anaconda3\\\\lib\\\\site-packages\\\\ipykernel\\\\zmqshell.py\", line 533, in run_cell\\n    return super(ZMQInteractiveShell, self).run_cell(*args, **kwargs)', 'File \"C:\\\\Users\\\\poia0\\\\Anaconda3\\\\lib\\\\site-packages\\\\IPython\\\\core\\\\interactiveshell.py\", line 2698, in run_cell\\n    interactivity=interactivity, compiler=compiler, result=result)', 'File \"C:\\\\Users\\\\poia0\\\\Anaconda3\\\\lib\\\\site-packages\\\\IPython\\\\core\\\\interactiveshell.py\", line 2808, in run_ast_nodes\\n    if self.run_code(code, result):', 'File \"C:\\\\Users\\\\poia0\\\\Anaconda3\\\\lib\\\\site-packages\\\\IPython\\\\core\\\\interactiveshell.py\", line 2862, in run_code\\n    exec(code_obj, self.user_global_ns, self.user_ns)', 'File \"<ipython-input-46-a66686f27644>\", line 21, in <module>\\n    tests.test_model_inputs(model_inputs)', 'File \"C:\\\\Users\\\\poia0\\\\Desktop\\\\udacity\\\\project4\\\\problem_unittests.py\", line 106, in test_model_inputs\\n    assert tf.assert_rank(lr, 0, message=\\'Learning Rate has wrong rank\\')', 'File \"C:\\\\Users\\\\poia0\\\\Anaconda3\\\\lib\\\\site-packages\\\\tensorflow\\\\python\\\\ops\\\\check_ops.py\", line 617, in assert_rank\\n    dynamic_condition, data, summarize)', 'File \"C:\\\\Users\\\\poia0\\\\Anaconda3\\\\lib\\\\site-packages\\\\tensorflow\\\\python\\\\ops\\\\check_ops.py\", line 571, in _assert_rank_condition\\n    return control_flow_ops.Assert(condition, data, summarize=summarize)', 'File \"C:\\\\Users\\\\poia0\\\\Anaconda3\\\\lib\\\\site-packages\\\\tensorflow\\\\python\\\\util\\\\tf_should_use.py\", line 170, in wrapped\\n    return _add_should_use_warning(fn(*args, **kwargs))', 'File \"C:\\\\Users\\\\poia0\\\\Anaconda3\\\\lib\\\\site-packages\\\\tensorflow\\\\python\\\\util\\\\tf_should_use.py\", line 139, in _add_should_use_warning\\n    wrapped = TFShouldUseWarningWrapper(x)', 'File \"C:\\\\Users\\\\poia0\\\\Anaconda3\\\\lib\\\\site-packages\\\\tensorflow\\\\python\\\\util\\\\tf_should_use.py\", line 96, in __init__\\n    stack = [s.strip() for s in traceback.format_stack()]']\n",
      "==================================\n",
      "ERROR:tensorflow:==================================\n",
      "Object was never used (type <class 'tensorflow.python.framework.ops.Operation'>):\n",
      "<tf.Operation 'assert_rank_3/Assert/Assert' type=Assert>\n",
      "If you want to mark it as used call its \"mark_used()\" method.\n",
      "It was originally created here:\n",
      "['File \"C:\\\\Users\\\\poia0\\\\Anaconda3\\\\lib\\\\runpy.py\", line 193, in _run_module_as_main\\n    \"__main__\", mod_spec)', 'File \"C:\\\\Users\\\\poia0\\\\Anaconda3\\\\lib\\\\runpy.py\", line 85, in _run_code\\n    exec(code, run_globals)', 'File \"C:\\\\Users\\\\poia0\\\\Anaconda3\\\\lib\\\\site-packages\\\\ipykernel_launcher.py\", line 16, in <module>\\n    app.launch_new_instance()', 'File \"C:\\\\Users\\\\poia0\\\\Anaconda3\\\\lib\\\\site-packages\\\\traitlets\\\\config\\\\application.py\", line 658, in launch_instance\\n    app.start()', 'File \"C:\\\\Users\\\\poia0\\\\Anaconda3\\\\lib\\\\site-packages\\\\ipykernel\\\\kernelapp.py\", line 477, in start\\n    ioloop.IOLoop.instance().start()', 'File \"C:\\\\Users\\\\poia0\\\\Anaconda3\\\\lib\\\\site-packages\\\\zmq\\\\eventloop\\\\ioloop.py\", line 177, in start\\n    super(ZMQIOLoop, self).start()', 'File \"C:\\\\Users\\\\poia0\\\\Anaconda3\\\\lib\\\\site-packages\\\\tornado\\\\ioloop.py\", line 888, in start\\n    handler_func(fd_obj, events)', 'File \"C:\\\\Users\\\\poia0\\\\Anaconda3\\\\lib\\\\site-packages\\\\tornado\\\\stack_context.py\", line 277, in null_wrapper\\n    return fn(*args, **kwargs)', 'File \"C:\\\\Users\\\\poia0\\\\Anaconda3\\\\lib\\\\site-packages\\\\zmq\\\\eventloop\\\\zmqstream.py\", line 440, in _handle_events\\n    self._handle_recv()', 'File \"C:\\\\Users\\\\poia0\\\\Anaconda3\\\\lib\\\\site-packages\\\\zmq\\\\eventloop\\\\zmqstream.py\", line 472, in _handle_recv\\n    self._run_callback(callback, msg)', 'File \"C:\\\\Users\\\\poia0\\\\Anaconda3\\\\lib\\\\site-packages\\\\zmq\\\\eventloop\\\\zmqstream.py\", line 414, in _run_callback\\n    callback(*args, **kwargs)', 'File \"C:\\\\Users\\\\poia0\\\\Anaconda3\\\\lib\\\\site-packages\\\\tornado\\\\stack_context.py\", line 277, in null_wrapper\\n    return fn(*args, **kwargs)', 'File \"C:\\\\Users\\\\poia0\\\\Anaconda3\\\\lib\\\\site-packages\\\\ipykernel\\\\kernelbase.py\", line 283, in dispatcher\\n    return self.dispatch_shell(stream, msg)', 'File \"C:\\\\Users\\\\poia0\\\\Anaconda3\\\\lib\\\\site-packages\\\\ipykernel\\\\kernelbase.py\", line 235, in dispatch_shell\\n    handler(stream, idents, msg)', 'File \"C:\\\\Users\\\\poia0\\\\Anaconda3\\\\lib\\\\site-packages\\\\ipykernel\\\\kernelbase.py\", line 399, in execute_request\\n    user_expressions, allow_stdin)', 'File \"C:\\\\Users\\\\poia0\\\\Anaconda3\\\\lib\\\\site-packages\\\\ipykernel\\\\ipkernel.py\", line 196, in do_execute\\n    res = shell.run_cell(code, store_history=store_history, silent=silent)', 'File \"C:\\\\Users\\\\poia0\\\\Anaconda3\\\\lib\\\\site-packages\\\\ipykernel\\\\zmqshell.py\", line 533, in run_cell\\n    return super(ZMQInteractiveShell, self).run_cell(*args, **kwargs)', 'File \"C:\\\\Users\\\\poia0\\\\Anaconda3\\\\lib\\\\site-packages\\\\IPython\\\\core\\\\interactiveshell.py\", line 2698, in run_cell\\n    interactivity=interactivity, compiler=compiler, result=result)', 'File \"C:\\\\Users\\\\poia0\\\\Anaconda3\\\\lib\\\\site-packages\\\\IPython\\\\core\\\\interactiveshell.py\", line 2808, in run_ast_nodes\\n    if self.run_code(code, result):', 'File \"C:\\\\Users\\\\poia0\\\\Anaconda3\\\\lib\\\\site-packages\\\\IPython\\\\core\\\\interactiveshell.py\", line 2862, in run_code\\n    exec(code_obj, self.user_global_ns, self.user_ns)', 'File \"<ipython-input-46-a66686f27644>\", line 21, in <module>\\n    tests.test_model_inputs(model_inputs)', 'File \"C:\\\\Users\\\\poia0\\\\Desktop\\\\udacity\\\\project4\\\\problem_unittests.py\", line 107, in test_model_inputs\\n    assert tf.assert_rank(keep_prob, 0, message=\\'Keep Probability has wrong rank\\')', 'File \"C:\\\\Users\\\\poia0\\\\Anaconda3\\\\lib\\\\site-packages\\\\tensorflow\\\\python\\\\ops\\\\check_ops.py\", line 617, in assert_rank\\n    dynamic_condition, data, summarize)', 'File \"C:\\\\Users\\\\poia0\\\\Anaconda3\\\\lib\\\\site-packages\\\\tensorflow\\\\python\\\\ops\\\\check_ops.py\", line 571, in _assert_rank_condition\\n    return control_flow_ops.Assert(condition, data, summarize=summarize)', 'File \"C:\\\\Users\\\\poia0\\\\Anaconda3\\\\lib\\\\site-packages\\\\tensorflow\\\\python\\\\util\\\\tf_should_use.py\", line 170, in wrapped\\n    return _add_should_use_warning(fn(*args, **kwargs))', 'File \"C:\\\\Users\\\\poia0\\\\Anaconda3\\\\lib\\\\site-packages\\\\tensorflow\\\\python\\\\util\\\\tf_should_use.py\", line 139, in _add_should_use_warning\\n    wrapped = TFShouldUseWarningWrapper(x)', 'File \"C:\\\\Users\\\\poia0\\\\Anaconda3\\\\lib\\\\site-packages\\\\tensorflow\\\\python\\\\util\\\\tf_should_use.py\", line 96, in __init__\\n    stack = [s.strip() for s in traceback.format_stack()]']\n",
      "==================================\n"
     ]
    },
    {
     "name": "stdout",
     "output_type": "stream",
     "text": [
      "Tests Passed\n"
     ]
    }
   ],
   "source": [
    "def model_inputs():\n",
    "    \"\"\"\n",
    "    Create TF Placeholders for input, targets, learning rate, and lengths of source and target sequences.\n",
    "    :return: Tuple (input, targets, learning rate, keep probability, target sequence length,\n",
    "    max target sequence length, source sequence length)\n",
    "    \"\"\"\n",
    "    # TODO: Implement Function\n",
    "    inputs = tf.placeholder(dtype=tf.int32, shape=[None,None], name='input')\n",
    "    targets = tf.placeholder(dtype=tf.int32, shape=[None,None])\n",
    "    learning_rate = tf.placeholder(dtype=tf.float32, shape=None)\n",
    "    keep_prob = tf.placeholder(dtype=tf.float32, shape=None,name=\"keep_prob\")\n",
    "    target_seq_len = tf.placeholder(dtype=tf.int32, shape=(None,), name=\"target_sequence_length\")\n",
    "    max_target_seq_len = tf.reduce_max(target_seq_len,name=\"max_target_len\")\n",
    "    source_seq_len = tf.placeholder(dtype=tf.int32, shape=(None,), name=\"source_sequence_length\")\n",
    "    return inputs, targets, learning_rate, keep_prob, target_seq_len, max_target_seq_len, source_seq_len\n",
    "\n",
    "\n",
    "\"\"\"\n",
    "DON'T MODIFY ANYTHING IN THIS CELL THAT IS BELOW THIS LINE\n",
    "\"\"\"\n",
    "tests.test_model_inputs(model_inputs)"
   ]
  },
  {
   "cell_type": "markdown",
   "metadata": {},
   "source": [
    "### Process Decoder Input\n",
    "Implement `process_decoder_input` by removing the last word id from each batch in `target_data` and concat the GO ID to the begining of each batch."
   ]
  },
  {
   "cell_type": "code",
   "execution_count": 47,
   "metadata": {},
   "outputs": [
    {
     "name": "stdout",
     "output_type": "stream",
     "text": [
      "Tests Passed\n"
     ]
    }
   ],
   "source": [
    "def process_decoder_input(target_data, target_vocab_to_int, batch_size):\n",
    "    \"\"\"\n",
    "    Preprocess target data for encoding\n",
    "    :param target_data: Target Placehoder\n",
    "    :param target_vocab_to_int: Dictionary to go from the target words to an id\n",
    "    :param batch_size: Batch Size\n",
    "    :return: Preprocessed target data\n",
    "    \"\"\"\n",
    "    pre_target_data = tf.strided_slice(target_data, [0,0],[batch_size,-1],[1,1])\n",
    "    decode_input = tf.concat([tf.fill([batch_size,1], target_vocab_to_int['<GO>']), pre_target_data], 1)\n",
    "    return decode_input\n",
    "\n",
    "\"\"\"\n",
    "DON'T MODIFY ANYTHING IN THIS CELL THAT IS BELOW THIS LINE\n",
    "\"\"\"\n",
    "tests.test_process_encoding_input(process_decoder_input)"
   ]
  },
  {
   "cell_type": "markdown",
   "metadata": {},
   "source": [
    "### Encoding\n",
    "Implement `encoding_layer()` to create a Encoder RNN layer:\n",
    " * Embed the encoder input using [`tf.contrib.layers.embed_sequence`](https://www.tensorflow.org/api_docs/python/tf/contrib/layers/embed_sequence)\n",
    " * Construct a [stacked](https://github.com/tensorflow/tensorflow/blob/6947f65a374ebf29e74bb71e36fd82760056d82c/tensorflow/docs_src/tutorials/recurrent.md#stacking-multiple-lstms) [`tf.contrib.rnn.LSTMCell`](https://www.tensorflow.org/api_docs/python/tf/contrib/rnn/LSTMCell) wrapped in a [`tf.contrib.rnn.DropoutWrapper`](https://www.tensorflow.org/api_docs/python/tf/contrib/rnn/DropoutWrapper)\n",
    " * Pass cell and embedded input to [`tf.nn.dynamic_rnn()`](https://www.tensorflow.org/api_docs/python/tf/nn/dynamic_rnn)"
   ]
  },
  {
   "cell_type": "code",
   "execution_count": 48,
   "metadata": {
    "scrolled": false
   },
   "outputs": [
    {
     "name": "stdout",
     "output_type": "stream",
     "text": [
      "Tests Passed\n"
     ]
    }
   ],
   "source": [
    "from imp import reload\n",
    "reload(tests)\n",
    "\n",
    "def encoding_layer(rnn_inputs, rnn_size, num_layers, keep_prob, \n",
    "                   source_sequence_length, source_vocab_size, \n",
    "                   encoding_embedding_size):\n",
    "    \"\"\"\n",
    "    Create encoding layer\n",
    "    :param rnn_inputs: Inputs for the RNN\n",
    "    :param rnn_size: RNN Size\n",
    "    :param num_layers: Number of layers\n",
    "    :param keep_prob: Dropout keep probability\n",
    "    :param source_sequence_length: a list of the lengths of each sequence in the batch\n",
    "    :param source_vocab_size: vocabulary size of source data\n",
    "    :param encoding_embedding_size: embedding size of source data\n",
    "    :return: tuple (RNN output, RNN state)\n",
    "    \"\"\"\n",
    "    enc_embed_input = tf.contrib.layers.embed_sequence(rnn_inputs, source_vocab_size, encoding_embedding_size)\n",
    "    \n",
    "    def make_cell(rnn_size):\n",
    "        enc_cell = tf.contrib.rnn.LSTMCell(rnn_size,\n",
    "                                           initializer=tf.random_uniform_initializer(-0.1, 0.1, seed=2))\n",
    "        return enc_cell\n",
    "    \n",
    "    enc_cell = tf.contrib.rnn.MultiRNNCell([make_cell(rnn_size) for _ in range(num_layers)])\n",
    "    enc_output, enc_state = tf.nn.dynamic_rnn(enc_cell, enc_embed_input, sequence_length=source_sequence_length, dtype=tf.float32)\n",
    "    return enc_output, enc_state\n",
    "\n",
    "\"\"\"\n",
    "DON'T MODIFY ANYTHING IN THIS CELL THAT IS BELOW THIS LINE\n",
    "\"\"\"\n",
    "tests.test_encoding_layer(encoding_layer)"
   ]
  },
  {
   "cell_type": "markdown",
   "metadata": {},
   "source": [
    "### Decoding - Training\n",
    "Create a training decoding layer:\n",
    "* Create a [`tf.contrib.seq2seq.TrainingHelper`](https://www.tensorflow.org/api_docs/python/tf/contrib/seq2seq/TrainingHelper) \n",
    "* Create a [`tf.contrib.seq2seq.BasicDecoder`](https://www.tensorflow.org/api_docs/python/tf/contrib/seq2seq/BasicDecoder)\n",
    "* Obtain the decoder outputs from [`tf.contrib.seq2seq.dynamic_decode`](https://www.tensorflow.org/api_docs/python/tf/contrib/seq2seq/dynamic_decode)"
   ]
  },
  {
   "cell_type": "code",
   "execution_count": 49,
   "metadata": {},
   "outputs": [
    {
     "name": "stdout",
     "output_type": "stream",
     "text": [
      "Tests Passed\n"
     ]
    }
   ],
   "source": [
    "\n",
    "def decoding_layer_train(encoder_state, dec_cell, dec_embed_input, \n",
    "                         target_sequence_length, max_summary_length, \n",
    "                         output_layer, keep_prob):\n",
    "    \"\"\"\n",
    "    Create a decoding layer for training\n",
    "    :param encoder_state: Encoder State\n",
    "    :param dec_cell: Decoder RNN Cell\n",
    "    :param dec_embed_input: Decoder embedded input\n",
    "    :param target_sequence_length: The lengths of each sequence in the target batch\n",
    "    :param max_summary_length: The length of the longest sequence in the batch\n",
    "    :param output_layer: Function to apply the output layer\n",
    "    :param keep_prob: Dropout keep probability\n",
    "    :return: BasicDecoderOutput containing training logits and sample_id\n",
    "    \"\"\"\n",
    "   \n",
    "\n",
    "    # Helper for the training process. Used by BasicDecoder to read inputs.\n",
    "    training_helper = tf.contrib.seq2seq.TrainingHelper(inputs=dec_embed_input,\n",
    "                                                            sequence_length=target_sequence_length,\n",
    "                                                            time_major=False)\n",
    "        \n",
    "        \n",
    "    # Basic decoder\n",
    "    training_decoder = tf.contrib.seq2seq.BasicDecoder(dec_cell,\n",
    "                                                           training_helper,\n",
    "                                                           encoder_state,\n",
    "                                                           output_layer) \n",
    "        \n",
    "    # Perform dynamic decoding using the decoder\n",
    "    training_decoder_output = tf.contrib.seq2seq.dynamic_decode(training_decoder,\n",
    "                                                                       impute_finished=True,\n",
    "                                                                       maximum_iterations=max_summary_length)[0]\n",
    "        \n",
    "    return training_decoder_output\n",
    "\n",
    "\n",
    "\n",
    "\"\"\"\n",
    "DON'T MODIFY ANYTHING IN THIS CELL THAT IS BELOW THIS LINE\n",
    "\"\"\"\n",
    "tests.test_decoding_layer_train(decoding_layer_train)"
   ]
  },
  {
   "cell_type": "markdown",
   "metadata": {},
   "source": [
    "### Decoding - Inference\n",
    "Create inference decoder:\n",
    "* Create a [`tf.contrib.seq2seq.GreedyEmbeddingHelper`](https://www.tensorflow.org/api_docs/python/tf/contrib/seq2seq/GreedyEmbeddingHelper)\n",
    "* Create a [`tf.contrib.seq2seq.BasicDecoder`](https://www.tensorflow.org/api_docs/python/tf/contrib/seq2seq/BasicDecoder)\n",
    "* Obtain the decoder outputs from [`tf.contrib.seq2seq.dynamic_decode`](https://www.tensorflow.org/api_docs/python/tf/contrib/seq2seq/dynamic_decode)"
   ]
  },
  {
   "cell_type": "code",
   "execution_count": 50,
   "metadata": {
    "scrolled": true
   },
   "outputs": [
    {
     "name": "stdout",
     "output_type": "stream",
     "text": [
      "Tests Passed\n"
     ]
    }
   ],
   "source": [
    "def decoding_layer_infer(encoder_state, dec_cell, dec_embeddings, start_of_sequence_id,\n",
    "                         end_of_sequence_id, max_target_sequence_length,\n",
    "                         vocab_size, output_layer, batch_size, keep_prob):\n",
    "    \"\"\"\n",
    "    Create a decoding layer for inference\n",
    "    :param encoder_state: Encoder state\n",
    "    :param dec_cell: Decoder RNN Cell\n",
    "    :param dec_embeddings: Decoder embeddings\n",
    "    :param start_of_sequence_id: GO ID\n",
    "    :param end_of_sequence_id: EOS Id\n",
    "    :param max_target_sequence_length: Maximum length of target sequences\n",
    "    :param vocab_size: Size of decoder/target vocabulary\n",
    "    :param decoding_scope: TenorFlow Variable Scope for decoding\n",
    "    :param output_layer: Function to apply the output layer\n",
    "    :param batch_size: Batch size\n",
    "    :param keep_prob: Dropout keep probability\n",
    "    :return: BasicDecoderOutput containing inference logits and sample_id\n",
    "    \"\"\"\n",
    "    start_tokens = tf.tile(tf.constant([start_of_sequence_id], dtype=tf.int32), [batch_size], name='start_tokens')\n",
    "\n",
    "    # Helper for the inference process.\n",
    "    inference_helper = tf.contrib.seq2seq.GreedyEmbeddingHelper(dec_embeddings,\n",
    "                                                                start_tokens,\n",
    "                                                                end_of_sequence_id)\n",
    "\n",
    "    # Basic decoder\n",
    "    inference_decoder = tf.contrib.seq2seq.BasicDecoder(dec_cell,\n",
    "                                                        inference_helper,\n",
    "                                                        encoder_state,\n",
    "                                                        output_layer)\n",
    "        \n",
    "    # Perform dynamic decoding using the decoder\n",
    "    inference_decoder_output = tf.contrib.seq2seq.dynamic_decode(inference_decoder,\n",
    "                                                            impute_finished=True,\n",
    "                                                            maximum_iterations=max_target_sequence_length)[0]\n",
    "    return inference_decoder_output\n",
    "\n",
    "\n",
    "\n",
    "\"\"\"\n",
    "DON'T MODIFY ANYTHING IN THIS CELL THAT IS BELOW THIS LINE\n",
    "\"\"\"\n",
    "tests.test_decoding_layer_infer(decoding_layer_infer)"
   ]
  },
  {
   "cell_type": "markdown",
   "metadata": {},
   "source": [
    "### Build the Decoding Layer\n",
    "Implement `decoding_layer()` to create a Decoder RNN layer.\n",
    "\n",
    "* Embed the target sequences\n",
    "* Construct the decoder LSTM cell (just like you constructed the encoder cell above)\n",
    "* Create an output layer to map the outputs of the decoder to the elements of our vocabulary\n",
    "* Use the your `decoding_layer_train(encoder_state, dec_cell, dec_embed_input, target_sequence_length, max_target_sequence_length, output_layer, keep_prob)` function to get the training logits.\n",
    "* Use your `decoding_layer_infer(encoder_state, dec_cell, dec_embeddings, start_of_sequence_id, end_of_sequence_id, max_target_sequence_length, vocab_size, output_layer, batch_size, keep_prob)` function to get the inference logits.\n",
    "\n",
    "Note: You'll need to use [tf.variable_scope](https://www.tensorflow.org/api_docs/python/tf/variable_scope) to share variables between training and inference."
   ]
  },
  {
   "cell_type": "code",
   "execution_count": 51,
   "metadata": {},
   "outputs": [
    {
     "name": "stdout",
     "output_type": "stream",
     "text": [
      "Tests Passed\n"
     ]
    }
   ],
   "source": [
    "def decoding_layer(dec_input, encoder_state,\n",
    "                   target_sequence_length, max_target_sequence_length,\n",
    "                   rnn_size,\n",
    "                   num_layers, target_vocab_to_int, target_vocab_size,\n",
    "                   batch_size, keep_prob, decoding_embedding_size):\n",
    "    \"\"\"\n",
    "    Create decoding layer\n",
    "    :param dec_input: Decoder input\n",
    "    :param encoder_state: Encoder state\n",
    "    :param target_sequence_length: The lengths of each sequence in the target batch\n",
    "    :param max_target_sequence_length: Maximum length of target sequences\n",
    "    :param rnn_size: RNN Size\n",
    "    :param num_layers: Number of layers\n",
    "    :param target_vocab_to_int: Dictionary to go from the target words to an id\n",
    "    :param target_vocab_size: Size of target vocabulary\n",
    "    :param batch_size: The size of the batch\n",
    "    :param keep_prob: Dropout keep probability\n",
    "    :param decoding_embedding_size: Decoding embedding size\n",
    "    :return: Tuple of (Training BasicDecoderOutput, Inference BasicDecoderOutput)\n",
    "    \"\"\"\n",
    "    dec_embeddings = tf.Variable(tf.random_uniform([target_vocab_size, decoding_embedding_size]))\n",
    "    dec_embed_input = tf.nn.embedding_lookup(dec_embeddings, dec_input)\n",
    "    \n",
    "    def make_cell(rnn_size):\n",
    "        dec_cell = tf.contrib.rnn.LSTMCell(rnn_size,\n",
    "                                           initializer=tf.random_uniform_initializer(-0.1, 0.1, seed=2))\n",
    "        keep_prob = 0.5\n",
    "        drop = tf.contrib.rnn.DropoutWrapper(dec_cell, output_keep_prob=keep_prob)\n",
    "        return drop\n",
    "\n",
    "    dec_cell = tf.contrib.rnn.MultiRNNCell([make_cell(rnn_size) for _ in range(num_layers)])\n",
    "    output_layer = Dense(target_vocab_size,\n",
    "                         kernel_initializer = tf.truncated_normal_initializer(mean = 0.0, stddev=0.1))\n",
    "    \n",
    "    with tf.variable_scope(\"decode\"):\n",
    "        Training_BasicDecoderOutput = decoding_layer_train(encoder_state,dec_cell,dec_embed_input,target_sequence_length,max_target_sequence_length,output_layer,keep_prob)\n",
    "    with tf.variable_scope(\"decode\", reuse=True):\n",
    "        Inference_BasicDecoderOutput =  decoding_layer_infer(encoder_state, dec_cell, dec_embeddings, target_vocab_to_int['<GO>'], target_vocab_to_int['<EOS>'], max_target_sequence_length, target_vocab_size, output_layer, batch_size, keep_prob)\n",
    "    return Training_BasicDecoderOutput, Inference_BasicDecoderOutput\n",
    "\n",
    "\n",
    "\n",
    "\"\"\"\n",
    "DON'T MODIFY ANYTHING IN THIS CELL THAT IS BELOW THIS LINE\n",
    "\"\"\"\n",
    "tests.test_decoding_layer(decoding_layer)"
   ]
  },
  {
   "cell_type": "markdown",
   "metadata": {},
   "source": [
    "### Build the Neural Network\n",
    "Apply the functions you implemented above to:\n",
    "\n",
    "- Encode the input using your `encoding_layer(rnn_inputs, rnn_size, num_layers, keep_prob,  source_sequence_length, source_vocab_size, encoding_embedding_size)`.\n",
    "- Process target data using your `process_decoder_input(target_data, target_vocab_to_int, batch_size)` function.\n",
    "- Decode the encoded input using your `decoding_layer(dec_input, enc_state, target_sequence_length, max_target_sentence_length, rnn_size, num_layers, target_vocab_to_int, target_vocab_size, batch_size, keep_prob, dec_embedding_size)` function."
   ]
  },
  {
   "cell_type": "code",
   "execution_count": 52,
   "metadata": {},
   "outputs": [
    {
     "name": "stdout",
     "output_type": "stream",
     "text": [
      "Tests Passed\n"
     ]
    }
   ],
   "source": [
    "def seq2seq_model(input_data, target_data, keep_prob, batch_size,\n",
    "                  source_sequence_length, target_sequence_length,\n",
    "                  max_target_sentence_length,\n",
    "                  source_vocab_size, target_vocab_size,\n",
    "                  enc_embedding_size, dec_embedding_size,\n",
    "                  rnn_size, num_layers, target_vocab_to_int):\n",
    "    \"\"\"\n",
    "    Build the Sequence-to-Sequence part of the neural network\n",
    "    :param input_data: Input placeholder\n",
    "    :param target_data: Target placeholder\n",
    "    :param keep_prob: Dropout keep probability placeholder\n",
    "    :param batch_size: Batch Size\n",
    "    :param source_sequence_length: Sequence Lengths of source sequences in the batch\n",
    "    :param target_sequence_length: Sequence Lengths of target sequences in the batch\n",
    "    :param source_vocab_size: Source vocabulary size\n",
    "    :param target_vocab_size: Target vocabulary size\n",
    "    :param enc_embedding_size: Decoder embedding size\n",
    "    :param dec_embedding_size: Encoder embedding size\n",
    "    :param rnn_size: RNN Size\n",
    "    :param num_layers: Number of layers\n",
    "    :param target_vocab_to_int: Dictionary to go from the target words to an id\n",
    "    :return: Tuple of (Training BasicDecoderOutput, Inference BasicDecoderOutput)\n",
    "    \"\"\"\n",
    "    enc_output, enc_state = encoding_layer(input_data, rnn_size, num_layers, keep_prob,  source_sequence_length, source_vocab_size, enc_embedding_size)\n",
    "    dec_input = process_decoder_input(target_data, target_vocab_to_int, batch_size)\n",
    "    Training_BasicDecoderOutput, Inference_BasicDecoderOutput = decoding_layer(dec_input, enc_state, target_sequence_length, max_target_sentence_length, rnn_size, num_layers, target_vocab_to_int, target_vocab_size, batch_size, keep_prob, dec_embedding_size)\n",
    "    return Training_BasicDecoderOutput, Inference_BasicDecoderOutput\n",
    "\n",
    "\n",
    "\"\"\"\n",
    "DON'T MODIFY ANYTHING IN THIS CELL THAT IS BELOW THIS LINE\n",
    "\"\"\"\n",
    "tests.test_seq2seq_model(seq2seq_model)"
   ]
  },
  {
   "cell_type": "markdown",
   "metadata": {},
   "source": [
    "## Neural Network Training\n",
    "### Hyperparameters\n",
    "Tune the following parameters:\n",
    "\n",
    "- Set `epochs` to the number of epochs.\n",
    "- Set `batch_size` to the batch size.\n",
    "- Set `rnn_size` to the size of the RNNs.\n",
    "- Set `num_layers` to the number of layers.\n",
    "- Set `encoding_embedding_size` to the size of the embedding for the encoder.\n",
    "- Set `decoding_embedding_size` to the size of the embedding for the decoder.\n",
    "- Set `learning_rate` to the learning rate.\n",
    "- Set `keep_probability` to the Dropout keep probability\n",
    "- Set `display_step` to state how many steps between each debug output statement"
   ]
  },
  {
   "cell_type": "code",
   "execution_count": 69,
   "metadata": {
    "collapsed": true
   },
   "outputs": [],
   "source": [
    "# Number of Epochs\n",
    "epochs = 5\n",
    "# Batch Size\n",
    "batch_size = 256\n",
    "# RNN Size\n",
    "rnn_size = 256\n",
    "# Number of Layers\n",
    "num_layers = 2\n",
    "# Embedding Size\n",
    "encoding_embedding_size = 128\n",
    "decoding_embedding_size = 128\n",
    "# Learning Rate\n",
    "learning_rate = 0.001\n",
    "# Dropout Keep Probability\n",
    "keep_probability = 0.75\n",
    "display_step = 10"
   ]
  },
  {
   "cell_type": "markdown",
   "metadata": {},
   "source": [
    "### Build the Graph\n",
    "Build the graph using the neural network you implemented."
   ]
  },
  {
   "cell_type": "code",
   "execution_count": 70,
   "metadata": {
    "collapsed": true
   },
   "outputs": [],
   "source": [
    "\"\"\"\n",
    "DON'T MODIFY ANYTHING IN THIS CELL\n",
    "\"\"\"\n",
    "save_path = 'checkpoints/dev'\n",
    "(source_int_text, target_int_text), (source_vocab_to_int, target_vocab_to_int), _ = helper.load_preprocess()\n",
    "max_target_sentence_length = max([len(sentence) for sentence in source_int_text])\n",
    "\n",
    "train_graph = tf.Graph()\n",
    "with train_graph.as_default():\n",
    "    input_data, targets, lr, keep_prob, target_sequence_length, max_target_sequence_length, source_sequence_length = model_inputs()\n",
    "\n",
    "    #sequence_length = tf.placeholder_with_default(max_target_sentence_length, None, name='sequence_length')\n",
    "    input_shape = tf.shape(input_data)\n",
    "\n",
    "    train_logits, inference_logits = seq2seq_model(tf.reverse(input_data, [-1]),\n",
    "                                                   targets,\n",
    "                                                   keep_prob,\n",
    "                                                   batch_size,\n",
    "                                                   source_sequence_length,\n",
    "                                                   target_sequence_length,\n",
    "                                                   max_target_sequence_length,\n",
    "                                                   len(source_vocab_to_int),\n",
    "                                                   len(target_vocab_to_int),\n",
    "                                                   encoding_embedding_size,\n",
    "                                                   decoding_embedding_size,\n",
    "                                                   rnn_size,\n",
    "                                                   num_layers,\n",
    "                                                   target_vocab_to_int)\n",
    "\n",
    "\n",
    "    training_logits = tf.identity(train_logits.rnn_output, name='logits')\n",
    "    inference_logits = tf.identity(inference_logits.sample_id, name='predictions')\n",
    "\n",
    "    masks = tf.sequence_mask(target_sequence_length, max_target_sequence_length, dtype=tf.float32, name='masks')\n",
    "\n",
    "    with tf.name_scope(\"optimization\"):\n",
    "        # Loss function\n",
    "        cost = tf.contrib.seq2seq.sequence_loss(\n",
    "            training_logits,\n",
    "            targets,\n",
    "            masks)\n",
    "\n",
    "        # Optimizer\n",
    "        optimizer = tf.train.AdamOptimizer(lr)\n",
    "\n",
    "        # Gradient Clipping\n",
    "        gradients = optimizer.compute_gradients(cost)\n",
    "        capped_gradients = [(tf.clip_by_value(grad, -1., 1.), var) for grad, var in gradients if grad is not None]\n",
    "        train_op = optimizer.apply_gradients(capped_gradients)\n"
   ]
  },
  {
   "cell_type": "markdown",
   "metadata": {},
   "source": [
    "Batch and pad the source and target sequences"
   ]
  },
  {
   "cell_type": "code",
   "execution_count": 71,
   "metadata": {
    "collapsed": true
   },
   "outputs": [],
   "source": [
    "\"\"\"\n",
    "DON'T MODIFY ANYTHING IN THIS CELL\n",
    "\"\"\"\n",
    "def pad_sentence_batch(sentence_batch, pad_int):\n",
    "    \"\"\"Pad sentences with <PAD> so that each sentence of a batch has the same length\"\"\"\n",
    "    max_sentence = max([len(sentence) for sentence in sentence_batch])\n",
    "    return [sentence + [pad_int] * (max_sentence - len(sentence)) for sentence in sentence_batch]\n",
    "\n",
    "\n",
    "def get_batches(sources, targets, batch_size, source_pad_int, target_pad_int):\n",
    "    \"\"\"Batch targets, sources, and the lengths of their sentences together\"\"\"\n",
    "    for batch_i in range(0, len(sources)//batch_size):\n",
    "        start_i = batch_i * batch_size\n",
    "\n",
    "        # Slice the right amount for the batch\n",
    "        sources_batch = sources[start_i:start_i + batch_size]\n",
    "        targets_batch = targets[start_i:start_i + batch_size]\n",
    "\n",
    "        # Pad\n",
    "        pad_sources_batch = np.array(pad_sentence_batch(sources_batch, source_pad_int))\n",
    "        pad_targets_batch = np.array(pad_sentence_batch(targets_batch, target_pad_int))\n",
    "\n",
    "        # Need the lengths for the _lengths parameters\n",
    "        pad_targets_lengths = []\n",
    "        for target in pad_targets_batch:\n",
    "            pad_targets_lengths.append(len(target))\n",
    "\n",
    "        pad_source_lengths = []\n",
    "        for source in pad_sources_batch:\n",
    "            pad_source_lengths.append(len(source))\n",
    "\n",
    "        yield pad_sources_batch, pad_targets_batch, pad_source_lengths, pad_targets_lengths\n"
   ]
  },
  {
   "cell_type": "markdown",
   "metadata": {},
   "source": [
    "### Train\n",
    "Train the neural network on the preprocessed data. If you have a hard time getting a good loss, check the forms to see if anyone is having the same problem."
   ]
  },
  {
   "cell_type": "code",
   "execution_count": 72,
   "metadata": {
    "scrolled": true
   },
   "outputs": [
    {
     "name": "stdout",
     "output_type": "stream",
     "text": [
      "Epoch   0 Batch   10/538 - Train Accuracy: 0.2838, Validation Accuracy: 0.3739, Loss: 3.7422\n",
      "Epoch   0 Batch   20/538 - Train Accuracy: 0.3570, Validation Accuracy: 0.4064, Loss: 3.0003\n",
      "Epoch   0 Batch   30/538 - Train Accuracy: 0.3551, Validation Accuracy: 0.4217, Loss: 2.8903\n",
      "Epoch   0 Batch   40/538 - Train Accuracy: 0.4338, Validation Accuracy: 0.4403, Loss: 2.3974\n",
      "Epoch   0 Batch   50/538 - Train Accuracy: 0.3908, Validation Accuracy: 0.4544, Loss: 2.4057\n",
      "Epoch   0 Batch   60/538 - Train Accuracy: 0.4119, Validation Accuracy: 0.4721, Loss: 2.2455\n",
      "Epoch   0 Batch   70/538 - Train Accuracy: 0.4468, Validation Accuracy: 0.4721, Loss: 2.0168\n",
      "Epoch   0 Batch   80/538 - Train Accuracy: 0.4039, Validation Accuracy: 0.4725, Loss: 1.9797\n",
      "Epoch   0 Batch   90/538 - Train Accuracy: 0.4528, Validation Accuracy: 0.4991, Loss: 1.8241\n",
      "Epoch   0 Batch  100/538 - Train Accuracy: 0.4363, Validation Accuracy: 0.4794, Loss: 1.7420\n",
      "Epoch   0 Batch  110/538 - Train Accuracy: 0.4281, Validation Accuracy: 0.4854, Loss: 1.7194\n",
      "Epoch   0 Batch  120/538 - Train Accuracy: 0.4242, Validation Accuracy: 0.4899, Loss: 1.5897\n",
      "Epoch   0 Batch  130/538 - Train Accuracy: 0.4630, Validation Accuracy: 0.4917, Loss: 1.4661\n",
      "Epoch   0 Batch  140/538 - Train Accuracy: 0.4316, Validation Accuracy: 0.4913, Loss: 1.5265\n",
      "Epoch   0 Batch  150/538 - Train Accuracy: 0.4430, Validation Accuracy: 0.4959, Loss: 1.3883\n",
      "Epoch   0 Batch  160/538 - Train Accuracy: 0.4639, Validation Accuracy: 0.5066, Loss: 1.2768\n",
      "Epoch   0 Batch  170/538 - Train Accuracy: 0.4753, Validation Accuracy: 0.4957, Loss: 1.2568\n",
      "Epoch   0 Batch  180/538 - Train Accuracy: 0.4779, Validation Accuracy: 0.5142, Loss: 1.1967\n",
      "Epoch   0 Batch  190/538 - Train Accuracy: 0.4818, Validation Accuracy: 0.5172, Loss: 1.1933\n",
      "Epoch   0 Batch  200/538 - Train Accuracy: 0.4596, Validation Accuracy: 0.5067, Loss: 1.1353\n",
      "Epoch   0 Batch  210/538 - Train Accuracy: 0.5058, Validation Accuracy: 0.5213, Loss: 1.0736\n",
      "Epoch   0 Batch  220/538 - Train Accuracy: 0.4922, Validation Accuracy: 0.5327, Loss: 1.0383\n",
      "Epoch   0 Batch  230/538 - Train Accuracy: 0.5084, Validation Accuracy: 0.5417, Loss: 1.0273\n",
      "Epoch   0 Batch  240/538 - Train Accuracy: 0.5215, Validation Accuracy: 0.5410, Loss: 1.0162\n",
      "Epoch   0 Batch  250/538 - Train Accuracy: 0.5072, Validation Accuracy: 0.5518, Loss: 0.9387\n",
      "Epoch   0 Batch  260/538 - Train Accuracy: 0.5100, Validation Accuracy: 0.5400, Loss: 0.9237\n",
      "Epoch   0 Batch  270/538 - Train Accuracy: 0.5127, Validation Accuracy: 0.5449, Loss: 0.9143\n",
      "Epoch   0 Batch  280/538 - Train Accuracy: 0.5541, Validation Accuracy: 0.5398, Loss: 0.8457\n",
      "Epoch   0 Batch  290/538 - Train Accuracy: 0.5121, Validation Accuracy: 0.5543, Loss: 0.8735\n",
      "Epoch   0 Batch  300/538 - Train Accuracy: 0.5619, Validation Accuracy: 0.5463, Loss: 0.8201\n",
      "Epoch   0 Batch  310/538 - Train Accuracy: 0.5389, Validation Accuracy: 0.5526, Loss: 0.8001\n",
      "Epoch   0 Batch  320/538 - Train Accuracy: 0.5694, Validation Accuracy: 0.5655, Loss: 0.7970\n",
      "Epoch   0 Batch  330/538 - Train Accuracy: 0.5588, Validation Accuracy: 0.5531, Loss: 0.7647\n",
      "Epoch   0 Batch  340/538 - Train Accuracy: 0.5500, Validation Accuracy: 0.5643, Loss: 0.8148\n",
      "Epoch   0 Batch  350/538 - Train Accuracy: 0.5504, Validation Accuracy: 0.5877, Loss: 0.7825\n",
      "Epoch   0 Batch  360/538 - Train Accuracy: 0.5574, Validation Accuracy: 0.5769, Loss: 0.8185\n",
      "Epoch   0 Batch  370/538 - Train Accuracy: 0.5314, Validation Accuracy: 0.5790, Loss: 0.7909\n",
      "Epoch   0 Batch  380/538 - Train Accuracy: 0.5635, Validation Accuracy: 0.5849, Loss: 0.7434\n",
      "Epoch   0 Batch  390/538 - Train Accuracy: 0.5990, Validation Accuracy: 0.5755, Loss: 0.6979\n",
      "Epoch   0 Batch  400/538 - Train Accuracy: 0.5521, Validation Accuracy: 0.5730, Loss: 0.6947\n",
      "Epoch   0 Batch  410/538 - Train Accuracy: 0.5703, Validation Accuracy: 0.5916, Loss: 0.7081\n",
      "Epoch   0 Batch  420/538 - Train Accuracy: 0.5766, Validation Accuracy: 0.5923, Loss: 0.6885\n",
      "Epoch   0 Batch  430/538 - Train Accuracy: 0.5871, Validation Accuracy: 0.6005, Loss: 0.6798\n",
      "Epoch   0 Batch  440/538 - Train Accuracy: 0.5707, Validation Accuracy: 0.5998, Loss: 0.7041\n",
      "Epoch   0 Batch  450/538 - Train Accuracy: 0.6057, Validation Accuracy: 0.6202, Loss: 0.6791\n",
      "Epoch   0 Batch  460/538 - Train Accuracy: 0.5817, Validation Accuracy: 0.6229, Loss: 0.6399\n",
      "Epoch   0 Batch  470/538 - Train Accuracy: 0.6042, Validation Accuracy: 0.6158, Loss: 0.6364\n",
      "Epoch   0 Batch  480/538 - Train Accuracy: 0.6073, Validation Accuracy: 0.6218, Loss: 0.6265\n",
      "Epoch   0 Batch  490/538 - Train Accuracy: 0.6176, Validation Accuracy: 0.6309, Loss: 0.6195\n",
      "Epoch   0 Batch  500/538 - Train Accuracy: 0.6294, Validation Accuracy: 0.6140, Loss: 0.5654\n",
      "Epoch   0 Batch  510/538 - Train Accuracy: 0.6092, Validation Accuracy: 0.6248, Loss: 0.5931\n",
      "Epoch   0 Batch  520/538 - Train Accuracy: 0.6057, Validation Accuracy: 0.6184, Loss: 0.6102\n",
      "Epoch   0 Batch  530/538 - Train Accuracy: 0.6057, Validation Accuracy: 0.6328, Loss: 0.6283\n",
      "Epoch   1 Batch   10/538 - Train Accuracy: 0.5857, Validation Accuracy: 0.6241, Loss: 0.6147\n",
      "Epoch   1 Batch   20/538 - Train Accuracy: 0.6032, Validation Accuracy: 0.6472, Loss: 0.5817\n",
      "Epoch   1 Batch   30/538 - Train Accuracy: 0.5965, Validation Accuracy: 0.6349, Loss: 0.6005\n",
      "Epoch   1 Batch   40/538 - Train Accuracy: 0.6580, Validation Accuracy: 0.6344, Loss: 0.5086\n",
      "Epoch   1 Batch   50/538 - Train Accuracy: 0.6312, Validation Accuracy: 0.6520, Loss: 0.5710\n",
      "Epoch   1 Batch   60/538 - Train Accuracy: 0.6314, Validation Accuracy: 0.6392, Loss: 0.5481\n",
      "Epoch   1 Batch   70/538 - Train Accuracy: 0.6205, Validation Accuracy: 0.6465, Loss: 0.5276\n",
      "Epoch   1 Batch   80/538 - Train Accuracy: 0.6215, Validation Accuracy: 0.6520, Loss: 0.5652\n",
      "Epoch   1 Batch   90/538 - Train Accuracy: 0.6337, Validation Accuracy: 0.6394, Loss: 0.5431\n",
      "Epoch   1 Batch  100/538 - Train Accuracy: 0.6123, Validation Accuracy: 0.6424, Loss: 0.5324\n",
      "Epoch   1 Batch  110/538 - Train Accuracy: 0.6121, Validation Accuracy: 0.6158, Loss: 0.5426\n",
      "Epoch   1 Batch  120/538 - Train Accuracy: 0.6252, Validation Accuracy: 0.6642, Loss: 0.5012\n",
      "Epoch   1 Batch  130/538 - Train Accuracy: 0.6367, Validation Accuracy: 0.6442, Loss: 0.5002\n",
      "Epoch   1 Batch  140/538 - Train Accuracy: 0.5863, Validation Accuracy: 0.6589, Loss: 0.5472\n",
      "Epoch   1 Batch  150/538 - Train Accuracy: 0.6428, Validation Accuracy: 0.6507, Loss: 0.5075\n",
      "Epoch   1 Batch  160/538 - Train Accuracy: 0.6561, Validation Accuracy: 0.6639, Loss: 0.4812\n",
      "Epoch   1 Batch  170/538 - Train Accuracy: 0.6390, Validation Accuracy: 0.6523, Loss: 0.4883\n",
      "Epoch   1 Batch  180/538 - Train Accuracy: 0.6724, Validation Accuracy: 0.6621, Loss: 0.4658\n",
      "Epoch   1 Batch  190/538 - Train Accuracy: 0.6728, Validation Accuracy: 0.6561, Loss: 0.4917\n",
      "Epoch   1 Batch  200/538 - Train Accuracy: 0.6535, Validation Accuracy: 0.6653, Loss: 0.4689\n",
      "Epoch   1 Batch  210/538 - Train Accuracy: 0.6425, Validation Accuracy: 0.6488, Loss: 0.4605\n",
      "Epoch   1 Batch  220/538 - Train Accuracy: 0.6302, Validation Accuracy: 0.6712, Loss: 0.4464\n",
      "Epoch   1 Batch  230/538 - Train Accuracy: 0.6705, Validation Accuracy: 0.6864, Loss: 0.4603\n",
      "Epoch   1 Batch  240/538 - Train Accuracy: 0.6494, Validation Accuracy: 0.6744, Loss: 0.4533\n",
      "Epoch   1 Batch  250/538 - Train Accuracy: 0.6594, Validation Accuracy: 0.6866, Loss: 0.4422\n",
      "Epoch   1 Batch  260/538 - Train Accuracy: 0.6324, Validation Accuracy: 0.6749, Loss: 0.4373\n",
      "Epoch   1 Batch  270/538 - Train Accuracy: 0.6490, Validation Accuracy: 0.6777, Loss: 0.4368\n",
      "Epoch   1 Batch  280/538 - Train Accuracy: 0.6797, Validation Accuracy: 0.6939, Loss: 0.4060\n",
      "Epoch   1 Batch  290/538 - Train Accuracy: 0.6508, Validation Accuracy: 0.6907, Loss: 0.4202\n",
      "Epoch   1 Batch  300/538 - Train Accuracy: 0.6533, Validation Accuracy: 0.6857, Loss: 0.4108\n",
      "Epoch   1 Batch  310/538 - Train Accuracy: 0.6611, Validation Accuracy: 0.7029, Loss: 0.4237\n",
      "Epoch   1 Batch  320/538 - Train Accuracy: 0.6786, Validation Accuracy: 0.6634, Loss: 0.4031\n",
      "Epoch   1 Batch  330/538 - Train Accuracy: 0.6804, Validation Accuracy: 0.6774, Loss: 0.3812\n",
      "Epoch   1 Batch  340/538 - Train Accuracy: 0.6623, Validation Accuracy: 0.6918, Loss: 0.4087\n",
      "Epoch   1 Batch  350/538 - Train Accuracy: 0.6918, Validation Accuracy: 0.6802, Loss: 0.3994\n",
      "Epoch   1 Batch  360/538 - Train Accuracy: 0.6559, Validation Accuracy: 0.6790, Loss: 0.3928\n"
     ]
    },
    {
     "name": "stdout",
     "output_type": "stream",
     "text": [
      "Epoch   1 Batch  370/538 - Train Accuracy: 0.6695, Validation Accuracy: 0.6958, Loss: 0.4057\n",
      "Epoch   1 Batch  380/538 - Train Accuracy: 0.6861, Validation Accuracy: 0.7115, Loss: 0.3699\n",
      "Epoch   1 Batch  390/538 - Train Accuracy: 0.7299, Validation Accuracy: 0.6951, Loss: 0.3507\n",
      "Epoch   1 Batch  400/538 - Train Accuracy: 0.6840, Validation Accuracy: 0.7116, Loss: 0.3642\n",
      "Epoch   1 Batch  410/538 - Train Accuracy: 0.7006, Validation Accuracy: 0.7122, Loss: 0.3699\n",
      "Epoch   1 Batch  420/538 - Train Accuracy: 0.7182, Validation Accuracy: 0.7177, Loss: 0.3667\n",
      "Epoch   1 Batch  430/538 - Train Accuracy: 0.7074, Validation Accuracy: 0.7040, Loss: 0.3605\n",
      "Epoch   1 Batch  440/538 - Train Accuracy: 0.7064, Validation Accuracy: 0.7298, Loss: 0.3763\n",
      "Epoch   1 Batch  450/538 - Train Accuracy: 0.7299, Validation Accuracy: 0.7106, Loss: 0.3550\n",
      "Epoch   1 Batch  460/538 - Train Accuracy: 0.6948, Validation Accuracy: 0.7095, Loss: 0.3326\n",
      "Epoch   1 Batch  470/538 - Train Accuracy: 0.7286, Validation Accuracy: 0.7209, Loss: 0.3257\n",
      "Epoch   1 Batch  480/538 - Train Accuracy: 0.7204, Validation Accuracy: 0.7154, Loss: 0.3259\n",
      "Epoch   1 Batch  490/538 - Train Accuracy: 0.7121, Validation Accuracy: 0.7035, Loss: 0.3277\n",
      "Epoch   1 Batch  500/538 - Train Accuracy: 0.7237, Validation Accuracy: 0.7092, Loss: 0.2930\n",
      "Epoch   1 Batch  510/538 - Train Accuracy: 0.7463, Validation Accuracy: 0.7237, Loss: 0.2950\n",
      "Epoch   1 Batch  520/538 - Train Accuracy: 0.7086, Validation Accuracy: 0.7447, Loss: 0.3192\n",
      "Epoch   1 Batch  530/538 - Train Accuracy: 0.7295, Validation Accuracy: 0.7305, Loss: 0.3095\n",
      "Epoch   2 Batch   10/538 - Train Accuracy: 0.7170, Validation Accuracy: 0.7559, Loss: 0.3029\n",
      "Epoch   2 Batch   20/538 - Train Accuracy: 0.7439, Validation Accuracy: 0.7319, Loss: 0.2966\n",
      "Epoch   2 Batch   30/538 - Train Accuracy: 0.7371, Validation Accuracy: 0.7477, Loss: 0.2909\n",
      "Epoch   2 Batch   40/538 - Train Accuracy: 0.7644, Validation Accuracy: 0.7447, Loss: 0.2473\n",
      "Epoch   2 Batch   50/538 - Train Accuracy: 0.7631, Validation Accuracy: 0.7701, Loss: 0.2631\n",
      "Epoch   2 Batch   60/538 - Train Accuracy: 0.7664, Validation Accuracy: 0.7520, Loss: 0.2700\n",
      "Epoch   2 Batch   70/538 - Train Accuracy: 0.7537, Validation Accuracy: 0.7770, Loss: 0.2677\n",
      "Epoch   2 Batch   80/538 - Train Accuracy: 0.7533, Validation Accuracy: 0.7457, Loss: 0.2684\n",
      "Epoch   2 Batch   90/538 - Train Accuracy: 0.7535, Validation Accuracy: 0.7550, Loss: 0.2630\n",
      "Epoch   2 Batch  100/538 - Train Accuracy: 0.7660, Validation Accuracy: 0.7571, Loss: 0.2439\n",
      "Epoch   2 Batch  110/538 - Train Accuracy: 0.7723, Validation Accuracy: 0.7757, Loss: 0.2399\n",
      "Epoch   2 Batch  120/538 - Train Accuracy: 0.7746, Validation Accuracy: 0.7502, Loss: 0.2278\n",
      "Epoch   2 Batch  130/538 - Train Accuracy: 0.7829, Validation Accuracy: 0.7615, Loss: 0.2217\n",
      "Epoch   2 Batch  140/538 - Train Accuracy: 0.7504, Validation Accuracy: 0.7683, Loss: 0.2555\n",
      "Epoch   2 Batch  150/538 - Train Accuracy: 0.7762, Validation Accuracy: 0.7830, Loss: 0.2292\n",
      "Epoch   2 Batch  160/538 - Train Accuracy: 0.7533, Validation Accuracy: 0.7418, Loss: 0.2123\n",
      "Epoch   2 Batch  170/538 - Train Accuracy: 0.7788, Validation Accuracy: 0.7559, Loss: 0.2309\n",
      "Epoch   2 Batch  180/538 - Train Accuracy: 0.8151, Validation Accuracy: 0.7752, Loss: 0.2157\n",
      "Epoch   2 Batch  190/538 - Train Accuracy: 0.7773, Validation Accuracy: 0.7852, Loss: 0.2366\n",
      "Epoch   2 Batch  200/538 - Train Accuracy: 0.7877, Validation Accuracy: 0.8013, Loss: 0.1999\n",
      "Epoch   2 Batch  210/538 - Train Accuracy: 0.7654, Validation Accuracy: 0.8043, Loss: 0.1982\n",
      "Epoch   2 Batch  220/538 - Train Accuracy: 0.7723, Validation Accuracy: 0.7997, Loss: 0.1906\n",
      "Epoch   2 Batch  230/538 - Train Accuracy: 0.7703, Validation Accuracy: 0.7880, Loss: 0.2011\n",
      "Epoch   2 Batch  240/538 - Train Accuracy: 0.7982, Validation Accuracy: 0.7816, Loss: 0.2080\n",
      "Epoch   2 Batch  250/538 - Train Accuracy: 0.7955, Validation Accuracy: 0.7947, Loss: 0.1878\n",
      "Epoch   2 Batch  260/538 - Train Accuracy: 0.7872, Validation Accuracy: 0.7892, Loss: 0.1835\n",
      "Epoch   2 Batch  270/538 - Train Accuracy: 0.7902, Validation Accuracy: 0.7809, Loss: 0.1839\n",
      "Epoch   2 Batch  280/538 - Train Accuracy: 0.8324, Validation Accuracy: 0.8107, Loss: 0.1661\n",
      "Epoch   2 Batch  290/538 - Train Accuracy: 0.8191, Validation Accuracy: 0.8251, Loss: 0.1695\n",
      "Epoch   2 Batch  300/538 - Train Accuracy: 0.8099, Validation Accuracy: 0.8196, Loss: 0.1676\n",
      "Epoch   2 Batch  310/538 - Train Accuracy: 0.8307, Validation Accuracy: 0.8198, Loss: 0.1699\n",
      "Epoch   2 Batch  320/538 - Train Accuracy: 0.8272, Validation Accuracy: 0.8216, Loss: 0.1536\n",
      "Epoch   2 Batch  330/538 - Train Accuracy: 0.8056, Validation Accuracy: 0.8146, Loss: 0.1479\n",
      "Epoch   2 Batch  340/538 - Train Accuracy: 0.8277, Validation Accuracy: 0.8478, Loss: 0.1556\n",
      "Epoch   2 Batch  350/538 - Train Accuracy: 0.8041, Validation Accuracy: 0.8349, Loss: 0.1675\n",
      "Epoch   2 Batch  360/538 - Train Accuracy: 0.8268, Validation Accuracy: 0.8223, Loss: 0.1535\n",
      "Epoch   2 Batch  370/538 - Train Accuracy: 0.8215, Validation Accuracy: 0.8281, Loss: 0.1554\n",
      "Epoch   2 Batch  380/538 - Train Accuracy: 0.8465, Validation Accuracy: 0.8484, Loss: 0.1364\n",
      "Epoch   2 Batch  390/538 - Train Accuracy: 0.8674, Validation Accuracy: 0.8445, Loss: 0.1297\n",
      "Epoch   2 Batch  400/538 - Train Accuracy: 0.8579, Validation Accuracy: 0.8306, Loss: 0.1368\n",
      "Epoch   2 Batch  410/538 - Train Accuracy: 0.8398, Validation Accuracy: 0.8450, Loss: 0.1413\n",
      "Epoch   2 Batch  420/538 - Train Accuracy: 0.8611, Validation Accuracy: 0.8388, Loss: 0.1315\n",
      "Epoch   2 Batch  430/538 - Train Accuracy: 0.8182, Validation Accuracy: 0.8443, Loss: 0.1287\n",
      "Epoch   2 Batch  440/538 - Train Accuracy: 0.8338, Validation Accuracy: 0.8320, Loss: 0.1472\n",
      "Epoch   2 Batch  450/538 - Train Accuracy: 0.8504, Validation Accuracy: 0.8549, Loss: 0.1522\n",
      "Epoch   2 Batch  460/538 - Train Accuracy: 0.8343, Validation Accuracy: 0.8453, Loss: 0.1377\n",
      "Epoch   2 Batch  470/538 - Train Accuracy: 0.8491, Validation Accuracy: 0.8665, Loss: 0.1163\n",
      "Epoch   2 Batch  480/538 - Train Accuracy: 0.8504, Validation Accuracy: 0.8411, Loss: 0.1290\n",
      "Epoch   2 Batch  490/538 - Train Accuracy: 0.8744, Validation Accuracy: 0.8374, Loss: 0.1109\n",
      "Epoch   2 Batch  500/538 - Train Accuracy: 0.8846, Validation Accuracy: 0.8741, Loss: 0.1069\n",
      "Epoch   2 Batch  510/538 - Train Accuracy: 0.8871, Validation Accuracy: 0.8629, Loss: 0.1175\n",
      "Epoch   2 Batch  520/538 - Train Accuracy: 0.8535, Validation Accuracy: 0.8764, Loss: 0.1213\n",
      "Epoch   2 Batch  530/538 - Train Accuracy: 0.8443, Validation Accuracy: 0.8606, Loss: 0.1200\n",
      "Epoch   3 Batch   10/538 - Train Accuracy: 0.8428, Validation Accuracy: 0.8565, Loss: 0.1156\n",
      "Epoch   3 Batch   20/538 - Train Accuracy: 0.8650, Validation Accuracy: 0.8773, Loss: 0.1084\n",
      "Epoch   3 Batch   30/538 - Train Accuracy: 0.8578, Validation Accuracy: 0.8686, Loss: 0.1191\n",
      "Epoch   3 Batch   40/538 - Train Accuracy: 0.8846, Validation Accuracy: 0.8764, Loss: 0.0982\n",
      "Epoch   3 Batch   50/538 - Train Accuracy: 0.8625, Validation Accuracy: 0.8638, Loss: 0.1062\n",
      "Epoch   3 Batch   60/538 - Train Accuracy: 0.8791, Validation Accuracy: 0.8842, Loss: 0.1025\n",
      "Epoch   3 Batch   70/538 - Train Accuracy: 0.8638, Validation Accuracy: 0.8691, Loss: 0.1030\n",
      "Epoch   3 Batch   80/538 - Train Accuracy: 0.8527, Validation Accuracy: 0.8826, Loss: 0.1030\n",
      "Epoch   3 Batch   90/538 - Train Accuracy: 0.8713, Validation Accuracy: 0.9038, Loss: 0.1184\n",
      "Epoch   3 Batch  100/538 - Train Accuracy: 0.8971, Validation Accuracy: 0.8665, Loss: 0.0880\n",
      "Epoch   3 Batch  110/538 - Train Accuracy: 0.8764, Validation Accuracy: 0.8766, Loss: 0.1031\n",
      "Epoch   3 Batch  120/538 - Train Accuracy: 0.8801, Validation Accuracy: 0.8681, Loss: 0.0854\n",
      "Epoch   3 Batch  130/538 - Train Accuracy: 0.8806, Validation Accuracy: 0.8904, Loss: 0.0890\n",
      "Epoch   3 Batch  140/538 - Train Accuracy: 0.8740, Validation Accuracy: 0.8730, Loss: 0.1092\n",
      "Epoch   3 Batch  150/538 - Train Accuracy: 0.8865, Validation Accuracy: 0.8716, Loss: 0.0852\n",
      "Epoch   3 Batch  160/538 - Train Accuracy: 0.8739, Validation Accuracy: 0.8743, Loss: 0.0831\n",
      "Epoch   3 Batch  170/538 - Train Accuracy: 0.8664, Validation Accuracy: 0.8402, Loss: 0.0983\n",
      "Epoch   3 Batch  180/538 - Train Accuracy: 0.8910, Validation Accuracy: 0.8810, Loss: 0.0961\n",
      "Epoch   3 Batch  190/538 - Train Accuracy: 0.8698, Validation Accuracy: 0.8766, Loss: 0.1117\n"
     ]
    },
    {
     "name": "stdout",
     "output_type": "stream",
     "text": [
      "Epoch   3 Batch  200/538 - Train Accuracy: 0.8881, Validation Accuracy: 0.8640, Loss: 0.0862\n",
      "Epoch   3 Batch  210/538 - Train Accuracy: 0.8540, Validation Accuracy: 0.8849, Loss: 0.0935\n",
      "Epoch   3 Batch  220/538 - Train Accuracy: 0.8627, Validation Accuracy: 0.8752, Loss: 0.0882\n",
      "Epoch   3 Batch  230/538 - Train Accuracy: 0.8648, Validation Accuracy: 0.8960, Loss: 0.0853\n",
      "Epoch   3 Batch  240/538 - Train Accuracy: 0.8910, Validation Accuracy: 0.8929, Loss: 0.0881\n",
      "Epoch   3 Batch  250/538 - Train Accuracy: 0.8836, Validation Accuracy: 0.8970, Loss: 0.0778\n",
      "Epoch   3 Batch  260/538 - Train Accuracy: 0.8506, Validation Accuracy: 0.8601, Loss: 0.0876\n",
      "Epoch   3 Batch  270/538 - Train Accuracy: 0.8963, Validation Accuracy: 0.8901, Loss: 0.0772\n",
      "Epoch   3 Batch  280/538 - Train Accuracy: 0.8876, Validation Accuracy: 0.8805, Loss: 0.0722\n",
      "Epoch   3 Batch  290/538 - Train Accuracy: 0.9016, Validation Accuracy: 0.8990, Loss: 0.0743\n",
      "Epoch   3 Batch  300/538 - Train Accuracy: 0.8763, Validation Accuracy: 0.8952, Loss: 0.0821\n",
      "Epoch   3 Batch  310/538 - Train Accuracy: 0.9217, Validation Accuracy: 0.8952, Loss: 0.0825\n",
      "Epoch   3 Batch  320/538 - Train Accuracy: 0.8940, Validation Accuracy: 0.9087, Loss: 0.0743\n",
      "Epoch   3 Batch  330/538 - Train Accuracy: 0.8942, Validation Accuracy: 0.8878, Loss: 0.0701\n",
      "Epoch   3 Batch  340/538 - Train Accuracy: 0.8945, Validation Accuracy: 0.8908, Loss: 0.0809\n",
      "Epoch   3 Batch  350/538 - Train Accuracy: 0.8999, Validation Accuracy: 0.8876, Loss: 0.0828\n",
      "Epoch   3 Batch  360/538 - Train Accuracy: 0.9064, Validation Accuracy: 0.8967, Loss: 0.0754\n",
      "Epoch   3 Batch  370/538 - Train Accuracy: 0.9029, Validation Accuracy: 0.8748, Loss: 0.0789\n",
      "Epoch   3 Batch  380/538 - Train Accuracy: 0.9203, Validation Accuracy: 0.8919, Loss: 0.0719\n",
      "Epoch   3 Batch  390/538 - Train Accuracy: 0.9038, Validation Accuracy: 0.9187, Loss: 0.0699\n",
      "Epoch   3 Batch  400/538 - Train Accuracy: 0.9066, Validation Accuracy: 0.9047, Loss: 0.0749\n",
      "Epoch   3 Batch  410/538 - Train Accuracy: 0.9014, Validation Accuracy: 0.8965, Loss: 0.0805\n",
      "Epoch   3 Batch  420/538 - Train Accuracy: 0.9256, Validation Accuracy: 0.8963, Loss: 0.0693\n",
      "Epoch   3 Batch  430/538 - Train Accuracy: 0.8875, Validation Accuracy: 0.8952, Loss: 0.0686\n",
      "Epoch   3 Batch  440/538 - Train Accuracy: 0.9006, Validation Accuracy: 0.8855, Loss: 0.0797\n",
      "Epoch   3 Batch  450/538 - Train Accuracy: 0.8761, Validation Accuracy: 0.9047, Loss: 0.0814\n",
      "Epoch   3 Batch  460/538 - Train Accuracy: 0.8850, Validation Accuracy: 0.9093, Loss: 0.0792\n",
      "Epoch   3 Batch  470/538 - Train Accuracy: 0.9152, Validation Accuracy: 0.8888, Loss: 0.0719\n",
      "Epoch   3 Batch  480/538 - Train Accuracy: 0.9115, Validation Accuracy: 0.8860, Loss: 0.0751\n",
      "Epoch   3 Batch  490/538 - Train Accuracy: 0.8983, Validation Accuracy: 0.8995, Loss: 0.0721\n",
      "Epoch   3 Batch  500/538 - Train Accuracy: 0.9180, Validation Accuracy: 0.8874, Loss: 0.0640\n",
      "Epoch   3 Batch  510/538 - Train Accuracy: 0.8996, Validation Accuracy: 0.9125, Loss: 0.0685\n",
      "Epoch   3 Batch  520/538 - Train Accuracy: 0.8824, Validation Accuracy: 0.8890, Loss: 0.0681\n",
      "Epoch   3 Batch  530/538 - Train Accuracy: 0.8773, Validation Accuracy: 0.8871, Loss: 0.0788\n",
      "Epoch   4 Batch   10/538 - Train Accuracy: 0.8955, Validation Accuracy: 0.8915, Loss: 0.0730\n",
      "Epoch   4 Batch   20/538 - Train Accuracy: 0.8984, Validation Accuracy: 0.9071, Loss: 0.0727\n",
      "Epoch   4 Batch   30/538 - Train Accuracy: 0.8877, Validation Accuracy: 0.8974, Loss: 0.0752\n",
      "Epoch   4 Batch   40/538 - Train Accuracy: 0.8897, Validation Accuracy: 0.9016, Loss: 0.0549\n",
      "Epoch   4 Batch   50/538 - Train Accuracy: 0.9035, Validation Accuracy: 0.9052, Loss: 0.0563\n",
      "Epoch   4 Batch   60/538 - Train Accuracy: 0.9033, Validation Accuracy: 0.9181, Loss: 0.0591\n",
      "Epoch   4 Batch   70/538 - Train Accuracy: 0.8893, Validation Accuracy: 0.8885, Loss: 0.0592\n",
      "Epoch   4 Batch   80/538 - Train Accuracy: 0.9082, Validation Accuracy: 0.8952, Loss: 0.0670\n",
      "Epoch   4 Batch   90/538 - Train Accuracy: 0.9053, Validation Accuracy: 0.9002, Loss: 0.0712\n",
      "Epoch   4 Batch  100/538 - Train Accuracy: 0.9229, Validation Accuracy: 0.9107, Loss: 0.0582\n",
      "Epoch   4 Batch  110/538 - Train Accuracy: 0.9266, Validation Accuracy: 0.9121, Loss: 0.0604\n",
      "Epoch   4 Batch  120/538 - Train Accuracy: 0.8973, Validation Accuracy: 0.9102, Loss: 0.0539\n",
      "Epoch   4 Batch  130/538 - Train Accuracy: 0.8977, Validation Accuracy: 0.9238, Loss: 0.0536\n",
      "Epoch   4 Batch  140/538 - Train Accuracy: 0.8855, Validation Accuracy: 0.9102, Loss: 0.0748\n",
      "Epoch   4 Batch  150/538 - Train Accuracy: 0.9049, Validation Accuracy: 0.9270, Loss: 0.0577\n",
      "Epoch   4 Batch  160/538 - Train Accuracy: 0.8843, Validation Accuracy: 0.9142, Loss: 0.0533\n",
      "Epoch   4 Batch  170/538 - Train Accuracy: 0.8867, Validation Accuracy: 0.8915, Loss: 0.0646\n",
      "Epoch   4 Batch  180/538 - Train Accuracy: 0.9176, Validation Accuracy: 0.8945, Loss: 0.0574\n",
      "Epoch   4 Batch  190/538 - Train Accuracy: 0.8981, Validation Accuracy: 0.9114, Loss: 0.0700\n",
      "Epoch   4 Batch  200/538 - Train Accuracy: 0.9223, Validation Accuracy: 0.9052, Loss: 0.0568\n",
      "Epoch   4 Batch  210/538 - Train Accuracy: 0.9027, Validation Accuracy: 0.9002, Loss: 0.0625\n",
      "Epoch   4 Batch  220/538 - Train Accuracy: 0.8947, Validation Accuracy: 0.9055, Loss: 0.0601\n",
      "Epoch   4 Batch  230/538 - Train Accuracy: 0.8973, Validation Accuracy: 0.9054, Loss: 0.0579\n",
      "Epoch   4 Batch  240/538 - Train Accuracy: 0.9008, Validation Accuracy: 0.9192, Loss: 0.0599\n",
      "Epoch   4 Batch  250/538 - Train Accuracy: 0.9266, Validation Accuracy: 0.9015, Loss: 0.0591\n",
      "Epoch   4 Batch  260/538 - Train Accuracy: 0.8916, Validation Accuracy: 0.9045, Loss: 0.0634\n",
      "Epoch   4 Batch  270/538 - Train Accuracy: 0.9168, Validation Accuracy: 0.9045, Loss: 0.0533\n",
      "Epoch   4 Batch  280/538 - Train Accuracy: 0.9098, Validation Accuracy: 0.9071, Loss: 0.0529\n",
      "Epoch   4 Batch  290/538 - Train Accuracy: 0.9180, Validation Accuracy: 0.9112, Loss: 0.0527\n",
      "Epoch   4 Batch  300/538 - Train Accuracy: 0.9111, Validation Accuracy: 0.9119, Loss: 0.0611\n",
      "Epoch   4 Batch  310/538 - Train Accuracy: 0.9355, Validation Accuracy: 0.9231, Loss: 0.0622\n",
      "Epoch   4 Batch  320/538 - Train Accuracy: 0.9044, Validation Accuracy: 0.9075, Loss: 0.0567\n",
      "Epoch   4 Batch  330/538 - Train Accuracy: 0.9235, Validation Accuracy: 0.9027, Loss: 0.0518\n",
      "Epoch   4 Batch  340/538 - Train Accuracy: 0.9082, Validation Accuracy: 0.9244, Loss: 0.0598\n",
      "Epoch   4 Batch  350/538 - Train Accuracy: 0.9081, Validation Accuracy: 0.9267, Loss: 0.0647\n",
      "Epoch   4 Batch  360/538 - Train Accuracy: 0.9018, Validation Accuracy: 0.9258, Loss: 0.0582\n",
      "Epoch   4 Batch  370/538 - Train Accuracy: 0.9361, Validation Accuracy: 0.9199, Loss: 0.0553\n",
      "Epoch   4 Batch  380/538 - Train Accuracy: 0.9270, Validation Accuracy: 0.9155, Loss: 0.0515\n",
      "Epoch   4 Batch  390/538 - Train Accuracy: 0.9092, Validation Accuracy: 0.9205, Loss: 0.0490\n",
      "Epoch   4 Batch  400/538 - Train Accuracy: 0.9355, Validation Accuracy: 0.9274, Loss: 0.0549\n",
      "Epoch   4 Batch  410/538 - Train Accuracy: 0.9232, Validation Accuracy: 0.9123, Loss: 0.0544\n",
      "Epoch   4 Batch  420/538 - Train Accuracy: 0.9334, Validation Accuracy: 0.9158, Loss: 0.0500\n",
      "Epoch   4 Batch  430/538 - Train Accuracy: 0.9072, Validation Accuracy: 0.9093, Loss: 0.0526\n",
      "Epoch   4 Batch  440/538 - Train Accuracy: 0.9230, Validation Accuracy: 0.9229, Loss: 0.0574\n",
      "Epoch   4 Batch  450/538 - Train Accuracy: 0.9191, Validation Accuracy: 0.9197, Loss: 0.0655\n",
      "Epoch   4 Batch  460/538 - Train Accuracy: 0.9098, Validation Accuracy: 0.9252, Loss: 0.0579\n",
      "Epoch   4 Batch  470/538 - Train Accuracy: 0.9235, Validation Accuracy: 0.8999, Loss: 0.0474\n",
      "Epoch   4 Batch  480/538 - Train Accuracy: 0.9213, Validation Accuracy: 0.9192, Loss: 0.0546\n",
      "Epoch   4 Batch  490/538 - Train Accuracy: 0.9286, Validation Accuracy: 0.9380, Loss: 0.0486\n",
      "Epoch   4 Batch  500/538 - Train Accuracy: 0.9338, Validation Accuracy: 0.9357, Loss: 0.0370\n",
      "Epoch   4 Batch  510/538 - Train Accuracy: 0.9317, Validation Accuracy: 0.9306, Loss: 0.0505\n",
      "Epoch   4 Batch  520/538 - Train Accuracy: 0.9283, Validation Accuracy: 0.9110, Loss: 0.0515\n",
      "Epoch   4 Batch  530/538 - Train Accuracy: 0.9160, Validation Accuracy: 0.9221, Loss: 0.0572\n",
      "Model Trained and Saved\n"
     ]
    }
   ],
   "source": [
    "\"\"\"\n",
    "DON'T MODIFY ANYTHING IN THIS CELL\n",
    "\"\"\"\n",
    "def get_accuracy(target, logits):\n",
    "    \"\"\"\n",
    "    Calculate accuracy\n",
    "    \"\"\"\n",
    "    max_seq = max(target.shape[1], logits.shape[1])\n",
    "    if max_seq - target.shape[1]:\n",
    "        target = np.pad(\n",
    "            target,\n",
    "            [(0,0),(0,max_seq - target.shape[1])],\n",
    "            'constant')\n",
    "    if max_seq - logits.shape[1]:\n",
    "        logits = np.pad(\n",
    "            logits,\n",
    "            [(0,0),(0,max_seq - logits.shape[1])],\n",
    "            'constant')\n",
    "\n",
    "    return np.mean(np.equal(target, logits))\n",
    "\n",
    "# Split data to training and validation sets\n",
    "train_source = source_int_text[batch_size:]\n",
    "train_target = target_int_text[batch_size:]\n",
    "valid_source = source_int_text[:batch_size]\n",
    "valid_target = target_int_text[:batch_size]\n",
    "(valid_sources_batch, valid_targets_batch, valid_sources_lengths, valid_targets_lengths ) = next(get_batches(valid_source,\n",
    "                                                                                                             valid_target,\n",
    "                                                                                                             batch_size,\n",
    "                                                                                                             source_vocab_to_int['<PAD>'],\n",
    "                                                                                                             target_vocab_to_int['<PAD>']))                                                                                                  \n",
    "with tf.Session(graph=train_graph) as sess:\n",
    "    sess.run(tf.global_variables_initializer())\n",
    "\n",
    "    for epoch_i in range(epochs):\n",
    "        for batch_i, (source_batch, target_batch, sources_lengths, targets_lengths) in enumerate(\n",
    "                get_batches(train_source, train_target, batch_size,\n",
    "                            source_vocab_to_int['<PAD>'],\n",
    "                            target_vocab_to_int['<PAD>'])):\n",
    "\n",
    "            _, loss = sess.run(\n",
    "                [train_op, cost],\n",
    "                {input_data: source_batch,\n",
    "                 targets: target_batch,\n",
    "                 lr: learning_rate,\n",
    "                 target_sequence_length: targets_lengths,\n",
    "                 source_sequence_length: sources_lengths,\n",
    "                 keep_prob: keep_probability})\n",
    "\n",
    "\n",
    "            if batch_i % display_step == 0 and batch_i > 0:\n",
    "\n",
    "\n",
    "                batch_train_logits = sess.run(\n",
    "                    inference_logits,\n",
    "                    {input_data: source_batch,\n",
    "                     source_sequence_length: sources_lengths,\n",
    "                     target_sequence_length: targets_lengths,\n",
    "                     keep_prob: 1.0})\n",
    "\n",
    "\n",
    "                batch_valid_logits = sess.run(\n",
    "                    inference_logits,\n",
    "                    {input_data: valid_sources_batch,\n",
    "                     source_sequence_length: valid_sources_lengths,\n",
    "                     target_sequence_length: valid_targets_lengths,\n",
    "                     keep_prob: 1.0})\n",
    "\n",
    "                train_acc = get_accuracy(target_batch, batch_train_logits)\n",
    "\n",
    "                valid_acc = get_accuracy(valid_targets_batch, batch_valid_logits)\n",
    "\n",
    "                print('Epoch {:>3} Batch {:>4}/{} - Train Accuracy: {:>6.4f}, Validation Accuracy: {:>6.4f}, Loss: {:>6.4f}'\n",
    "                      .format(epoch_i, batch_i, len(source_int_text) // batch_size, train_acc, valid_acc, loss))\n",
    "\n",
    "    # Save Model\n",
    "    saver = tf.train.Saver()\n",
    "    saver.save(sess, save_path)\n",
    "    print('Model Trained and Saved')"
   ]
  },
  {
   "cell_type": "markdown",
   "metadata": {},
   "source": [
    "### Save Parameters\n",
    "Save the `batch_size` and `save_path` parameters for inference."
   ]
  },
  {
   "cell_type": "code",
   "execution_count": 73,
   "metadata": {
    "collapsed": true
   },
   "outputs": [],
   "source": [
    "\"\"\"\n",
    "DON'T MODIFY ANYTHING IN THIS CELL\n",
    "\"\"\"\n",
    "# Save parameters for checkpoint\n",
    "helper.save_params(save_path)"
   ]
  },
  {
   "cell_type": "markdown",
   "metadata": {},
   "source": [
    "# Checkpoint"
   ]
  },
  {
   "cell_type": "code",
   "execution_count": 74,
   "metadata": {
    "collapsed": true
   },
   "outputs": [],
   "source": [
    "\"\"\"\n",
    "DON'T MODIFY ANYTHING IN THIS CELL\n",
    "\"\"\"\n",
    "import tensorflow as tf\n",
    "import numpy as np\n",
    "import helper\n",
    "import problem_unittests as tests\n",
    "\n",
    "_, (source_vocab_to_int, target_vocab_to_int), (source_int_to_vocab, target_int_to_vocab) = helper.load_preprocess()\n",
    "load_path = helper.load_params()"
   ]
  },
  {
   "cell_type": "markdown",
   "metadata": {},
   "source": [
    "## Sentence to Sequence\n",
    "To feed a sentence into the model for translation, you first need to preprocess it.  Implement the function `sentence_to_seq()` to preprocess new sentences.\n",
    "\n",
    "- Convert the sentence to lowercase\n",
    "- Convert words into ids using `vocab_to_int`\n",
    " - Convert words not in the vocabulary, to the `<UNK>` word id."
   ]
  },
  {
   "cell_type": "code",
   "execution_count": 75,
   "metadata": {},
   "outputs": [
    {
     "name": "stdout",
     "output_type": "stream",
     "text": [
      "Tests Passed\n"
     ]
    }
   ],
   "source": [
    "def sentence_to_seq(sentence, vocab_to_int):\n",
    "    \"\"\"\n",
    "    Convert a sentence to a sequence of ids\n",
    "    :param sentence: String\n",
    "    :param vocab_to_int: Dictionary to go from the words to an id\n",
    "    :return: List of word ids\n",
    "    \"\"\"\n",
    "    \n",
    "    default_word = vocab_to_int['<UNK>']\n",
    "    #sen2lowercase = sentence.lower()\n",
    "    #word2id = []\n",
    "    #for word in sen2lowercase.split():\n",
    "    #    if word not in vocab_to_int.keys():\n",
    "    #        word2id.append(vocab_to_int['<UNK>'])\n",
    "    #    else:\n",
    "    #        word2id.append(vocab_to_int[word])\n",
    "    return [vocab_to_int.get(word,default_word) for word in sentence.lower().split()]\n",
    "\n",
    "\n",
    "\"\"\"\n",
    "DON'T MODIFY ANYTHING IN THIS CELL THAT IS BELOW THIS LINE\n",
    "\"\"\"\n",
    "tests.test_sentence_to_seq(sentence_to_seq)"
   ]
  },
  {
   "cell_type": "markdown",
   "metadata": {},
   "source": [
    "## Translate\n",
    "This will translate `translate_sentence` from English to French."
   ]
  },
  {
   "cell_type": "code",
   "execution_count": 76,
   "metadata": {},
   "outputs": [
    {
     "name": "stdout",
     "output_type": "stream",
     "text": [
      "INFO:tensorflow:Restoring parameters from checkpoints/dev\n",
      "Input\n",
      "  Word Ids:      [192, 222, 132, 79, 159, 220, 215]\n",
      "  English Words: ['he', 'saw', 'a', 'old', 'yellow', 'truck', '.']\n",
      "\n",
      "Prediction\n",
      "  Word Ids:      [255, 65, 269, 11, 346, 23, 116, 177, 1, 0, 0, 0, 0, 0]\n",
      "  French Words: il a vu un petit camion noir . <EOS> <PAD> <PAD> <PAD> <PAD> <PAD>\n"
     ]
    }
   ],
   "source": [
    "translate_sentence = 'he saw a old yellow truck .'\n",
    "\n",
    "\n",
    "\"\"\"\n",
    "DON'T MODIFY ANYTHING IN THIS CELL\n",
    "\"\"\"\n",
    "translate_sentence = sentence_to_seq(translate_sentence, source_vocab_to_int)\n",
    "\n",
    "loaded_graph = tf.Graph()\n",
    "with tf.Session(graph=loaded_graph) as sess:\n",
    "    # Load saved model\n",
    "    loader = tf.train.import_meta_graph(load_path + '.meta')\n",
    "    loader.restore(sess, load_path)\n",
    "\n",
    "    input_data = loaded_graph.get_tensor_by_name('input:0')\n",
    "    logits = loaded_graph.get_tensor_by_name('predictions:0')\n",
    "    target_sequence_length = loaded_graph.get_tensor_by_name('target_sequence_length:0')\n",
    "    source_sequence_length = loaded_graph.get_tensor_by_name('source_sequence_length:0')\n",
    "    keep_prob = loaded_graph.get_tensor_by_name('keep_prob:0')\n",
    "\n",
    "    translate_logits = sess.run(logits, {input_data: [translate_sentence]*batch_size,\n",
    "                                         target_sequence_length: [len(translate_sentence)*2]*batch_size,\n",
    "                                         source_sequence_length: [len(translate_sentence)]*batch_size,\n",
    "                                         keep_prob: 1.0})[0]\n",
    "\n",
    "print('Input')\n",
    "print('  Word Ids:      {}'.format([i for i in translate_sentence]))\n",
    "print('  English Words: {}'.format([source_int_to_vocab[i] for i in translate_sentence]))\n",
    "\n",
    "print('\\nPrediction')\n",
    "print('  Word Ids:      {}'.format([i for i in translate_logits]))\n",
    "print('  French Words: {}'.format(\" \".join([target_int_to_vocab[i] for i in translate_logits])))\n"
   ]
  },
  {
   "cell_type": "markdown",
   "metadata": {},
   "source": [
    "## Imperfect Translation\n",
    "You might notice that some sentences translate better than others.  Since the dataset you're using only has a vocabulary of 227 English words of the thousands that you use, you're only going to see good results using these words.  For this project, you don't need a perfect translation. However, if you want to create a better translation model, you'll need better data.\n",
    "\n",
    "You can train on the [WMT10 French-English corpus](http://www.statmt.org/wmt10/training-giga-fren.tar).  This dataset has more vocabulary and richer in topics discussed.  However, this will take you days to train, so make sure you've a GPU and the neural network is performing well on dataset we provided.  Just make sure you play with the WMT10 corpus after you've submitted this project.\n",
    "## Submitting This Project\n",
    "When submitting this project, make sure to run all the cells before saving the notebook. Save the notebook file as \"dlnd_language_translation.ipynb\" and save it as a HTML file under \"File\" -> \"Download as\". Include the \"helper.py\" and \"problem_unittests.py\" files in your submission."
   ]
  }
 ],
 "metadata": {
  "anaconda-cloud": {},
  "kernelspec": {
   "display_name": "Python 3",
   "language": "python",
   "name": "python3"
  },
  "language_info": {
   "codemirror_mode": {
    "name": "ipython",
    "version": 3
   },
   "file_extension": ".py",
   "mimetype": "text/x-python",
   "name": "python",
   "nbconvert_exporter": "python",
   "pygments_lexer": "ipython3",
   "version": "3.6.2"
  }
 },
 "nbformat": 4,
 "nbformat_minor": 1
}
